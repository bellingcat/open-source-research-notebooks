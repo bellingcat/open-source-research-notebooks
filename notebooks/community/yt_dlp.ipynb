{
  "cells": [
    {
      "cell_type": "markdown",
      "metadata": {
        "id": "8blAaessrLlF"
      },
      "source": [
        "# yt-dlp Demonstration Notebook\n",
        "\n",
        "In this Jupyter notebook, we will explore the capabilities of yt-dlp, a powerful command-line tool that extends the functionality of YouTube-DL, allowing users to download videos from various online sources with additional features and options.\n",
        "\n",
        "See [here](https://github.com/yt-dlp/yt-dlp) for more information.\n",
        "\n",
        "In this notebook, we shall:\n",
        "\n",
        "1. Install yt-dlp.\n",
        "2. Showcase how to download videos from different sources.\n",
        "3. Demonstrate how to fetch subtitles.\n",
        "4. Discuss some other helpful commands.\n",
        "\n",
        "## 1. Installation"
      ]
    },
    {
      "cell_type": "code",
      "execution_count": null,
      "metadata": {
        "colab": {
          "base_uri": "https://localhost:8080/"
        },
        "id": "IB9PsH_mqs-J",
        "outputId": "270f7f1b-6a60-4488-b283-73a5cfafdfd5"
      },
      "outputs": [],
      "source": [
        "!pip install yt-dlp"
      ]
    },
    {
      "cell_type": "markdown",
      "metadata": {
        "id": "fH5iCGqHrK4H"
      },
      "source": [
        "## 2. Downloading videos from different sources\n",
        "\n",
        "The resultant video file should be in your session storage if you run this from Google Cloab, or just in the same folder as this script if you run it elsewhere.\n",
        "\n",
        "The basic usage of the command is:\n",
        "\n",
        "```\n",
        "yt-dlp [OPTIONS] [--] URL [URL...]\n",
        "```\n",
        "\n",
        "You can explore options [here](https://pypi.org/project/yt-dlp/#video-selection)."
      ]
    },
    {
      "cell_type": "markdown",
      "metadata": {
        "id": "J5gZYUVdvkzx"
      },
      "source": [
        "### Basic Youtube Example\n"
      ]
    },
    {
      "cell_type": "code",
      "execution_count": null,
      "metadata": {
        "colab": {
          "base_uri": "https://localhost:8080/"
        },
        "id": "81idLBFqrHxX",
        "outputId": "85158a9f-1c65-4d1b-db42-553cdfb5de20"
      },
      "outputs": [],
      "source": [
        "!yt-dlp https://www.youtube.com/watch?v=dQw4w9WgXcQ"
      ]
    },
    {
      "cell_type": "markdown",
      "metadata": {
        "id": "eS854goQw4Tp"
      },
      "source": [
        "### Downloading from Vimeo, and also setting the format to MP4."
      ]
    },
    {
      "cell_type": "code",
      "execution_count": null,
      "metadata": {
        "colab": {
          "base_uri": "https://localhost:8080/"
        },
        "id": "ZrDQ0M66vKGj",
        "outputId": "06721d9e-2a7b-437a-c609-24375e788ad6"
      },
      "outputs": [],
      "source": [
        "!yt-dlp --format mp4 https://vimeo.com/794492622"
      ]
    },
    {
      "cell_type": "markdown",
      "metadata": {
        "id": "7LMEIsWYxDhM"
      },
      "source": [
        "## 3. Fetching Subtitles\n",
        "This example wil download a video from Youtube, and if there is a subtitle track available, it will download that also. Depending on the avilability, you may also be able to specify the language of the subtitle track. Also note that we use `--embed-subs` to embed the subtitles into the mp4.\n",
        "\n",
        "You can explore options [here](https://pypi.org/project/yt-dlp/#video-selection)."
      ]
    },
    {
      "cell_type": "code",
      "execution_count": null,
      "metadata": {
        "colab": {
          "base_uri": "https://localhost:8080/"
        },
        "id": "vjk_zotDxGr6",
        "outputId": "14db16c9-bae7-4615-9854-3454a6e42556"
      },
      "outputs": [],
      "source": [
        "!yt-dlp --write-subs --embed-subs --format mp4  https://www.youtube.com/watch?v=020g-0hhCAU&ab_channel=Cocomelon-NurseryRhymes"
      ]
    },
    {
      "cell_type": "markdown",
      "metadata": {},
      "source": [
        "If you used the example video above, you will can run the following cell to display the subtitles in the notebook. Otherwise, update the `subtitle_file_path` to match your subtitles file name (.vtt). "
      ]
    },
    {
      "cell_type": "code",
      "execution_count": null,
      "metadata": {
        "colab": {
          "base_uri": "https://localhost:8080/"
        },
        "id": "PKe7j5SN2NiN",
        "outputId": "61e17d27-ef5b-4180-be54-aa4e9b12e014"
      },
      "outputs": [],
      "source": [
        "\n",
        "subtitle_file_path = \"Baby Shark ｜ @CoComelon Nursery Rhymes & Kids Songs [020g-0hhCAU].en.vtt\"\n",
        "\n",
        "with open(subtitle_file_path, \"r\", encoding=\"utf-8\") as file:\n",
        "    subtitle_text = file.read()\n",
        "\n",
        "print(subtitle_text)\n"
      ]
    },
    {
      "cell_type": "markdown",
      "metadata": {
        "id": "f_cG9n3p30i_"
      },
      "source": [
        "## 4. Other helpful commands\n",
        "These are **advanced** materials using yt-dlp's Python library."
      ]
    },
    {
      "cell_type": "markdown",
      "metadata": {
        "id": "VYWQcHmG4znR"
      },
      "source": [
        "### Modifying Metadata"
      ]
    },
    {
      "cell_type": "code",
      "execution_count": null,
      "metadata": {
        "colab": {
          "base_uri": "https://localhost:8080/"
        },
        "id": "8opNL5--38Ow",
        "outputId": "545e3aa4-5cae-45c2-d22a-88cdbb49f172"
      },
      "outputs": [],
      "source": [
        "# Interpret the title as \"Artist - Title\"\n",
        "!yt-dlp --parse-metadata \"%(series)s S%(season_number)02dE%(episode_number)02d:%(title)s\" https://www.youtube.com/watch?v=BaW_jenozKc"
      ]
    },
    {
      "cell_type": "markdown",
      "metadata": {
        "id": "z93JufsJ41ft"
      },
      "source": [
        "### Extract information to JSON with Python"
      ]
    },
    {
      "cell_type": "code",
      "execution_count": null,
      "metadata": {
        "colab": {
          "base_uri": "https://localhost:8080/"
        },
        "id": "_xoCpiKa5CAb",
        "outputId": "cbfc337c-c690-402b-aa71-c10260522fda"
      },
      "outputs": [],
      "source": [
        "import json\n",
        "import yt_dlp\n",
        "\n",
        "URL = 'https://www.youtube.com/watch?v=BaW_jenozKc'\n",
        "\n",
        "# ℹ️ See help(yt_dlp.YoutubeDL) for a list of available options and public functions\n",
        "ydl_opts = {}\n",
        "with yt_dlp.YoutubeDL(ydl_opts) as ydl:\n",
        "    info = ydl.extract_info(URL, download=False)\n",
        "\n",
        "    # ℹ️ ydl.sanitize_info makes the info json-serializable\n",
        "    print(json.dumps(ydl.sanitize_info(info)))"
      ]
    },
    {
      "cell_type": "markdown",
      "metadata": {
        "id": "OaQ4y1zI5zEz"
      },
      "source": [
        "### Extract audio with Python"
      ]
    },
    {
      "cell_type": "code",
      "execution_count": null,
      "metadata": {
        "colab": {
          "base_uri": "https://localhost:8080/"
        },
        "id": "CIu4mUwx50yz",
        "outputId": "26a37783-a227-44f6-d1ca-5009ce4d6d83"
      },
      "outputs": [],
      "source": [
        "import yt_dlp\n",
        "\n",
        "URLS = ['https://www.youtube.com/watch?v=BaW_jenozKc']\n",
        "\n",
        "ydl_opts = {\n",
        "    'format': 'm4a/bestaudio/best',\n",
        "    # ℹ️ See help(yt_dlp.postprocessor) for a list of available Postprocessors and their arguments\n",
        "    'postprocessors': [{  # Extract audio using ffmpeg\n",
        "        'key': 'FFmpegExtractAudio',\n",
        "        'preferredcodec': 'm4a',\n",
        "    }]\n",
        "}\n",
        "\n",
        "with yt_dlp.YoutubeDL(ydl_opts) as ydl:\n",
        "    error_code = ydl.download(URLS)"
      ]
    },
    {
      "cell_type": "markdown",
      "metadata": {
        "id": "pw_giTMZ6Us1"
      },
      "source": [
        "### Filter video with Python"
      ]
    },
    {
      "cell_type": "code",
      "execution_count": null,
      "metadata": {
        "colab": {
          "base_uri": "https://localhost:8080/"
        },
        "id": "2fd9_QqH6UHq",
        "outputId": "b787d31f-11a9-4159-c7c6-a06b707319b5"
      },
      "outputs": [],
      "source": [
        "import yt_dlp\n",
        "\n",
        "URLS = ['https://www.youtube.com/watch?v=BaW_jenozKc']\n",
        "\n",
        "def longer_than_a_minute(info, *, incomplete):\n",
        "    \"\"\"Download only videos longer than a minute (or with unknown duration)\"\"\"\n",
        "    duration = info.get('duration')\n",
        "    if duration and duration < 60:\n",
        "        return 'The video is too short'\n",
        "\n",
        "ydl_opts = {\n",
        "    'match_filter': longer_than_a_minute,\n",
        "}\n",
        "\n",
        "with yt_dlp.YoutubeDL(ydl_opts) as ydl:\n",
        "    error_code = ydl.download(URLS)"
      ]
    },
    {
      "cell_type": "markdown",
      "metadata": {
        "id": "fo_YY_lH6Z06"
      },
      "source": [
        "### Adding logger and progress hook"
      ]
    },
    {
      "cell_type": "code",
      "execution_count": null,
      "metadata": {
        "colab": {
          "base_uri": "https://localhost:8080/"
        },
        "id": "r0xbAaNs6an7",
        "outputId": "8d9c6432-0c25-410c-dd53-18ce4359593e"
      },
      "outputs": [],
      "source": [
        "import yt_dlp\n",
        "\n",
        "URLS = ['https://www.youtube.com/watch?v=BaW_jenozKc']\n",
        "\n",
        "class MyLogger:\n",
        "    def debug(self, msg):\n",
        "        # For compatibility with youtube-dl, both debug and info are passed into debug\n",
        "        # You can distinguish them by the prefix '[debug] '\n",
        "        if msg.startswith('[debug] '):\n",
        "            pass\n",
        "        else:\n",
        "            self.info(msg)\n",
        "\n",
        "    def info(self, msg):\n",
        "        pass\n",
        "\n",
        "    def warning(self, msg):\n",
        "        pass\n",
        "\n",
        "    def error(self, msg):\n",
        "        print(msg)\n",
        "\n",
        "\n",
        "# ℹ️ See \"progress_hooks\" in help(yt_dlp.YoutubeDL)\n",
        "def my_hook(d):\n",
        "    if d['status'] == 'finished':\n",
        "        print('Done downloading, now post-processing ...')\n",
        "\n",
        "\n",
        "ydl_opts = {\n",
        "    'logger': MyLogger(),\n",
        "    'progress_hooks': [my_hook],\n",
        "}\n",
        "\n",
        "with yt_dlp.YoutubeDL(ydl_opts) as ydl:\n",
        "    ydl.download(URLS)"
      ]
    },
    {
      "cell_type": "markdown",
      "metadata": {
        "id": "kf8Mse_t6kmA"
      },
      "source": [
        "### Add a custom PostProcessor"
      ]
    },
    {
      "cell_type": "code",
      "execution_count": null,
      "metadata": {
        "colab": {
          "base_uri": "https://localhost:8080/"
        },
        "id": "7zWvfOTv6mA-",
        "outputId": "398724f5-cb65-424c-a21d-f68679e31121"
      },
      "outputs": [],
      "source": [
        "import yt_dlp\n",
        "\n",
        "URLS = ['https://www.youtube.com/watch?v=BaW_jenozKc']\n",
        "\n",
        "# ℹ️ See help(yt_dlp.postprocessor.PostProcessor)\n",
        "class MyCustomPP(yt_dlp.postprocessor.PostProcessor):\n",
        "    def run(self, info):\n",
        "        self.to_screen('Doing stuff')\n",
        "        return [], info\n",
        "\n",
        "\n",
        "with yt_dlp.YoutubeDL() as ydl:\n",
        "    # ℹ️ \"when\" can take any value in yt_dlp.utils.POSTPROCESS_WHEN\n",
        "    ydl.add_post_processor(MyCustomPP(), when='pre_process')\n",
        "    ydl.download(URLS)"
      ]
    }
  ],
  "metadata": {
    "colab": {
      "provenance": []
    },
    "kernelspec": {
      "display_name": "Python 3",
      "name": "python3"
    },
    "language_info": {
      "codemirror_mode": {
        "name": "ipython",
        "version": 3
      },
      "file_extension": ".py",
      "mimetype": "text/x-python",
      "name": "python",
      "nbconvert_exporter": "python",
      "pygments_lexer": "ipython3",
      "version": "3.11.2"
    }
  },
  "nbformat": 4,
  "nbformat_minor": 0
}
