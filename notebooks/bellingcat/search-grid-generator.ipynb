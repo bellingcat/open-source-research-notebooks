{
 "cells": [
  {
   "cell_type": "markdown",
   "metadata": {},
   "source": [
    "# Search grid generator\n",
    "\n",
    "<a href=\"https://www.bellingcat.com\"><img alt=\"Bellingcat logo: Discover Bellingcat\" src=\"https://img.shields.io/badge/Discover%20Bellingcat-%20?style=for-the-badge&logo=data%3Aimage%2Fpng%3Bbase64%2CiVBORw0KGgoAAAANSUhEUgAAAA4AAAAYCAYAAADKx8xXAAABhGlDQ1BJQ0MgcHJvZmlsZQAAKJF9kT1Iw0AcxV9TS0UqDnZQEcxQneyiIo6likWwUNoKrTqYXPoFTRqSFBdHwbXg4Mdi1cHFWVcHV0EQ%2FABxdnBSdJES%2F5cUWsR4cNyPd%2Fced%2B8AoVllqtkTA1TNMtKJuJjLr4rBVwQwhhBEDEvM1JOZxSw8x9c9fHy9i%2FIs73N%2Fjn6lYDLAJxLHmG5YxBvEs5uWznmfOMzKkkJ8Tjxp0AWJH7kuu%2FzGueSwwDPDRjY9TxwmFktdLHcxKxsq8QxxRFE1yhdyLiuctzir1Tpr35O%2FMFTQVjJcpzmKBJaQRIo6klFHBVVYiNKqkWIiTftxD%2F%2BI40%2BRSyZXBYwcC6hBheT4wf%2Fgd7dmcXrKTQrFgcCLbX%2BMA8FdoNWw7e9j226dAP5n4Err%2BGtNYO6T9EZHixwBA9vAxXVHk%2FeAyx1g6EmXDMmR%2FDSFYhF4P6NvygODt0Dfmttbex%2BnD0CWulq%2BAQ4OgYkSZa97vLu3u7d%2Fz7T7%2BwHEU3LHAa%2FQ6gAAAAZiS0dEAAAAAAAA%2BUO7fwAAAAlwSFlzAAAuIwAALiMBeKU%2FdgAAAAd0SU1FB%2BgFHwwiMH4odB4AAAAZdEVYdENvbW1lbnQAQ3JlYXRlZCB3aXRoIEdJTVBXgQ4XAAAA50lEQVQ4y82SvWpCQRCFz25ERSJiCNqlUiS1b5AuEEiZIq1NOsGXCKms0wXSp9T6dskDiFikyiPc%2FrMZyf3FXSGQ0%2BzuzPl2ZoeVKgQ0gQ2wBVpVHlcDkjM5V%2FJ5nag6sJ%2FZX%2Bh%2FC7gEhqeAFKf7p1M9aB3b5oN1OomB7g1axUBPBr3GQHODHmOgqUF3MZAzKI2d4LWBV4H%2BMXDuJd1a7Cew1k7SwksaHC4LqNaw7aeX9GWHXkC1G1sTAS17Y3Kk2lnp4wNLiz0DrgLq8qt2MfmSSabAO%2FBBXp26dtrADPjOmN%2BAUdG7B3cE61l5hOZiAAAAAElFTkSuQmCC&logoColor=%23fff&color=%23000\"></a><!--\n",
    "--><a href=\"https://discord.gg/bellingcat\"><img alt=\"Discord logo: Join our community\" src=\"https://img.shields.io/badge/Join%20our%20community-%20?style=for-the-badge&logo=discord&logoColor=%23fff&color=%235865F2\"></a><!--\n",
    "--><a href=\"https://github.com/bellingcat/open-source-research-notebooks/blob/main/notebooks/bellingcat/search-grid-generator.ipynb\"><img alt=\"Github logo: Explore the code\" src=\"https://img.shields.io/badge/Explore%20the%20code-%20?style=for-the-badge&logo=github&color=%2329903b\"></a>\n",
    "\n",
    "A tool for generating a grid of rectangular polygons in a KML file. The resulting KML file can be opened in Google Earth and used for systematically searching an area."
   ]
  },
  {
   "cell_type": "markdown",
   "source": [
    "# 0.0 Setup Grid (inputs)"
   ],
   "metadata": {
    "collapsed": false
   }
  },
  {
   "cell_type": "code",
   "source": [
    "# @title Create Grid { display-mode: \"form\" }\n",
    "\n",
    "# @markdown ### ⬅️ Click to generate the grid once you've filled in the form\n",
    "\n",
    "# @markdown Provide the coordinates of opposite corners of the area of interest:\n",
    "lat_long_1 = \"48.90529373066811, 2.2584719879516464\"  # @param {type:\"string\"}\n",
    "lat_long_2 = \"48.81418021233939, 2.4172392962309246\"  # @param {type:\"string\"}\n",
    "\n",
    "# @markdown Set the approximate grid square size in km:\n",
    "grid_size = 1  # @param {type:\"number\"}\n",
    "\n",
    "# @markdown Customise the name of the output file:\n",
    "file_name = \"grid.kml\"  # @param {type:\"string\"}"
   ],
   "metadata": {
    "collapsed": false,
    "ExecuteTime": {
     "end_time": "2024-10-15T20:51:33.182695Z",
     "start_time": "2024-10-15T20:51:33.177073Z"
    }
   },
   "outputs": [],
   "execution_count": 1
  },
  {
   "cell_type": "markdown",
   "source": [
    "# 0.1 Imports"
   ],
   "metadata": {
    "collapsed": false
   }
  },
  {
   "cell_type": "code",
   "source": [
    "import numpy as np\n",
    "from ipywidgets import widgets\n",
    "from IPython import get_ipython\n",
    "from IPython.display import display\n",
    "from datetime import datetime\n",
    "\n",
    "logfile = f\"./grid_log_{datetime.now().strftime('%d%m%Y_%H%M%S')}.log\"\n",
    "\n",
    "# Install dependencies and enable widgets if running in colab\n",
    "if \"google.colab\" in str(get_ipython()):\n",
    "    !jupyter nbextension enable --py widgetsnbextension >> {logfile} 2>&1\n",
    "    ![ ! -f \"deps_installed\" ] && pip install simplekml >> {logfile} 2>&1 && touch \"deps_installed\"\n",
    "\n",
    "import simplekml"
   ],
   "metadata": {
    "collapsed": false,
    "ExecuteTime": {
     "end_time": "2024-10-15T20:51:33.479068Z",
     "start_time": "2024-10-15T20:51:33.189696Z"
    }
   },
   "outputs": [
    {
     "ename": "ModuleNotFoundError",
     "evalue": "No module named 'simplekml'",
     "output_type": "error",
     "traceback": [
      "\u001B[1;31m---------------------------------------------------------------------------\u001B[0m",
      "\u001B[1;31mModuleNotFoundError\u001B[0m                       Traceback (most recent call last)",
      "Cell \u001B[1;32mIn[2], line 14\u001B[0m\n\u001B[0;32m     11\u001B[0m     get_ipython()\u001B[38;5;241m.\u001B[39msystem(\u001B[38;5;124m'\u001B[39m\u001B[38;5;124mjupyter nbextension enable --py widgetsnbextension >> \u001B[39m\u001B[38;5;132;01m{logfile}\u001B[39;00m\u001B[38;5;124m 2>&1\u001B[39m\u001B[38;5;124m'\u001B[39m)\n\u001B[0;32m     12\u001B[0m     get_ipython()\u001B[38;5;241m.\u001B[39msystem(\u001B[38;5;124m'\u001B[39m\u001B[38;5;124m[ ! -f \u001B[39m\u001B[38;5;124m\"\u001B[39m\u001B[38;5;124mdeps_installed\u001B[39m\u001B[38;5;124m\"\u001B[39m\u001B[38;5;124m ] && pip install simplekml >> \u001B[39m\u001B[38;5;132;01m{logfile}\u001B[39;00m\u001B[38;5;124m 2>&1 && touch \u001B[39m\u001B[38;5;124m\"\u001B[39m\u001B[38;5;124mdeps_installed\u001B[39m\u001B[38;5;124m\"\u001B[39m\u001B[38;5;124m'\u001B[39m)\n\u001B[1;32m---> 14\u001B[0m \u001B[38;5;28;01mimport\u001B[39;00m \u001B[38;5;21;01msimplekml\u001B[39;00m\n",
      "\u001B[1;31mModuleNotFoundError\u001B[0m: No module named 'simplekml'"
     ]
    }
   ],
   "execution_count": 2
  },
  {
   "cell_type": "markdown",
   "source": [
    "# 0.2 Grid generation Function"
   ],
   "metadata": {
    "collapsed": false
   }
  },
  {
   "cell_type": "code",
   "execution_count": 15,
   "metadata": {
    "ExecuteTime": {
     "end_time": "2024-10-15T20:51:33.547083800Z",
     "start_time": "2024-10-15T17:53:05.521702Z"
    }
   },
   "outputs": [],
   "source": [
    "def generate_grid(\n",
    "    lat1, lon1, lat2, lon2, lat_step=0.01, lon_step=0.01, file_name=\"grid.kml\"\n",
    "):\n",
    "    # Create a kml object\n",
    "    kml = simplekml.Kml()\n",
    "    # create a folder\n",
    "    fol = kml.newfolder(name=\"Grid\")\n",
    "\n",
    "    for lat in np.arange(lat1, lat2, lat_step):\n",
    "        for lon in np.arange(lon1, lon2, lon_step):\n",
    "            # Round the lat and lon values to 5 decimal places\n",
    "\n",
    "            # Create a polygon\n",
    "            pol = fol.newpolygon(name=f\"({lat}, {lon})\")\n",
    "            pol.outerboundaryis = [\n",
    "                (lon, lat),\n",
    "                (lon + lon_step, lat),\n",
    "                (lon + lon_step, lat + lat_step),\n",
    "                (lon, lat + lat_step),\n",
    "                (lon, lat),\n",
    "            ]\n",
    "            pol.style.linestyle.color = simplekml.Color.white\n",
    "            pol.style.linestyle.width = 2\n",
    "            # make the polygon transparent\n",
    "            pol.style.polystyle.color = simplekml.Color.changealphaint(\n",
    "                0, simplekml.Color.red\n",
    "            )\n",
    "\n",
    "    # Save the kml file\n",
    "    kml.save(file_name)"
   ]
  },
  {
   "cell_type": "markdown",
   "source": [],
   "metadata": {
    "collapsed": false
   }
  },
  {
   "cell_type": "markdown",
   "source": [
    "# 1. The code\n",
    "### 1.1 Filter, extract, and parse data"
   ],
   "metadata": {
    "collapsed": false
   }
  },
  {
   "cell_type": "code",
   "outputs": [],
   "source": [
    "# Add kml extension to the file name if it doesn't exist\n",
    "if not file_name.endswith(\".kml\"):\n",
    "    file_name += \".kml\"\n",
    "\n",
    "# Extract the latitude and longitude\n",
    "lat1, lon1 = lat_long_1.replace(\" \", \"\").split(\",\")\n",
    "lat2, lon2 = lat_long_2.replace(\" \", \"\").split(\",\")\n",
    "\n",
    "# Reorder the lat long values\n",
    "lat1, lat2 = min(float(lat1), float(lat2)), max(float(lat1), float(lat2))\n",
    "lon1, lon2 = min(float(lon1), float(lon2)), max(float(lon1), float(lon2))\n",
    "\n",
    "# Convert grid_size to degrees for lat_step and lon_step separately\n",
    "lon_step = grid_size / 111 / np.cos(np.radians((lat1 + lat2) / 2))\n",
    "lat_step = grid_size / 111 "
   ],
   "metadata": {
    "collapsed": false,
    "ExecuteTime": {
     "end_time": "2024-10-15T20:51:33.547083800Z",
     "start_time": "2024-10-15T17:48:58.248007Z"
    }
   },
   "execution_count": 5
  },
  {
   "cell_type": "markdown",
   "source": [
    "### 1.2 Generate the grid"
   ],
   "metadata": {
    "collapsed": false
   }
  },
  {
   "cell_type": "code",
   "source": [
    "generate_grid(\n",
    "    lat1, lon1, lat2, lon2, lat_step=lat_step, lon_step=lon_step, file_name=file_name\n",
    ")"
   ],
   "metadata": {
    "collapsed": false,
    "ExecuteTime": {
     "end_time": "2024-10-15T20:51:33.547083800Z",
     "start_time": "2024-10-15T17:59:18.553766Z"
    }
   },
   "outputs": [
    {
     "ename": "NameError",
     "evalue": "name 'generate_grid' is not defined",
     "output_type": "error",
     "traceback": [
      "\u001B[1;31m---------------------------------------------------------------------------\u001B[0m",
      "\u001B[1;31mNameError\u001B[0m                                 Traceback (most recent call last)",
      "Cell \u001B[1;32mIn[1], line 1\u001B[0m\n\u001B[1;32m----> 1\u001B[0m \u001B[43mgenerate_grid\u001B[49m(\n\u001B[0;32m      2\u001B[0m     lat1, lon1, lat2, lon2, lat_step\u001B[38;5;241m=\u001B[39mlat_step, lon_step\u001B[38;5;241m=\u001B[39mlon_step, file_name\u001B[38;5;241m=\u001B[39mfile_name\n\u001B[0;32m      3\u001B[0m )\n",
      "\u001B[1;31mNameError\u001B[0m: name 'generate_grid' is not defined"
     ]
    }
   ],
   "execution_count": 1
  },
  {
   "cell_type": "markdown",
   "source": [
    "### 1.3 Show download button if running in colab"
   ],
   "metadata": {
    "collapsed": false
   }
  },
  {
   "cell_type": "code",
   "outputs": [],
   "source": [
    "if \"google.colab\" in str(get_ipython()):\n",
    "    from google.colab import files\n",
    "    btn = widgets.Button(description=f\"Download {file_name}\")\n",
    "    btn.on_click(lambda x: files.download(file_name))\n",
    "    display(btn)"
   ],
   "metadata": {
    "collapsed": false,
    "ExecuteTime": {
     "end_time": "2024-10-15T20:51:33.547083800Z",
     "start_time": "2024-10-15T17:52:54.852101Z"
    }
   },
   "execution_count": 12
  }
 ],
 "metadata": {
  "kernelspec": {
   "display_name": ".venv",
   "language": "python",
   "name": "python3"
  },
  "language_info": {
   "codemirror_mode": {
    "name": "ipython",
    "version": 3
   },
   "file_extension": ".py",
   "mimetype": "text/x-python",
   "name": "python",
   "nbconvert_exporter": "python",
   "pygments_lexer": "ipython3",
   "version": "3.11.9"
  }
 },
 "nbformat": 4,
 "nbformat_minor": 2
}
